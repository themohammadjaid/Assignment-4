{
 "cells": [
  {
   "cell_type": "code",
   "execution_count": null,
   "id": "1dec6c1a-eccc-418e-94db-a46576505a0f",
   "metadata": {},
   "outputs": [],
   "source": [
    "Q.1 write a program to accept percent from the user and display the grade\n",
    "\n",
    "marks               grade\n",
    ">90                  A\n",
    ">80 and <=90         B\n",
    ">=60 and <=80        C\n",
    "below 60             D"
   ]
  },
  {
   "cell_type": "code",
   "execution_count": 10,
   "id": "e507e72c-758c-4f68-a545-dc63b51020d0",
   "metadata": {},
   "outputs": [
    {
     "name": "stdin",
     "output_type": "stream",
     "text": [
      "100: 94\n"
     ]
    },
    {
     "name": "stdout",
     "output_type": "stream",
     "text": [
      "Grade A\n"
     ]
    }
   ],
   "source": [
    "percent = float(input(\"100:\"))\n",
    "if percent > 90:\n",
    "    print(\"Grade A\")\n",
    "elif percent > 80 and marks >= 90:\n",
    "    print(\"Grade B\")\n",
    "elif percent >= 60 and marks <=80:\n",
    "    print(\"Grade C\")\n",
    "elif percent < 60:\n",
    "    print(\"Grade D\")"
   ]
  },
  {
   "cell_type": "code",
   "execution_count": null,
   "id": "d360e174-643e-4862-9910-bc075d9d5095",
   "metadata": {},
   "outputs": [],
   "source": [
    "Q.2 Write a program to accept the cost price of a bike and display the road tax to be paid according to the criteria \n",
    "\n",
    "Tax                         cost price in rupess\n",
    "15%                              >100000\n",
    "10%                              >50000 and <= 100000\n",
    "5%                               <= 500000"
   ]
  },
  {
   "cell_type": "code",
   "execution_count": 15,
   "id": "957e632a-b79b-444d-aed8-549db4be5890",
   "metadata": {},
   "outputs": [
    {
     "name": "stdin",
     "output_type": "stream",
     "text": [
      "150000: 20000\n"
     ]
    },
    {
     "name": "stdout",
     "output_type": "stream",
     "text": [
      "road tax 5%\n"
     ]
    }
   ],
   "source": [
    "cost_price = float(input(\"150000:\"))\n",
    "if cost_price >100000:\n",
    "    print(\"road tax 15%\")\n",
    "elif cost_price >50000 and marks <= 100000:\n",
    "    print(\"road tax 10%\")\n",
    "elif cost_price <= 500000:\n",
    "    print(\"road tax 5%\")"
   ]
  },
  {
   "cell_type": "code",
   "execution_count": null,
   "id": "1bc87ee2-096d-41e9-b9ce-e4561f3d40ab",
   "metadata": {},
   "outputs": [],
   "source": [
    "Q.3 Accept any city from the user and display monument of the city\n",
    "\n",
    "City                                    Monument\n",
    "\n",
    "delhi                                   Red fort\n",
    "Agra                                    Taj Mahal\n",
    "Jaipur                                  Jal mahal\n"
   ]
  },
  {
   "cell_type": "code",
   "execution_count": 1,
   "id": "59799684-6148-49b2-948a-c39d29d80f8b",
   "metadata": {},
   "outputs": [
    {
     "name": "stdin",
     "output_type": "stream",
     "text": [
      "kolhapur:  agra\n"
     ]
    },
    {
     "name": "stdout",
     "output_type": "stream",
     "text": [
      "Taj Mahal\n"
     ]
    }
   ],
   "source": [
    "city = input(\"kolhapur: \")\n",
    "if city.upper() == \"DELHI\":\n",
    "    print(\"Red Fort\")\n",
    "elif city.upper() == \"AGRA\":\n",
    "    print(\"Taj Mahal\")\n",
    "elif city.upper() == \"JAIPUR\":\n",
    "    print(\"Jal Mahal\")\n",
    "else:\n",
    "    print(\"Sorry, I don't know the monument of this city.\")"
   ]
  },
  {
   "cell_type": "code",
   "execution_count": null,
   "id": "36f7d183-b2e0-4296-8aec-847ca25a361d",
   "metadata": {},
   "outputs": [],
   "source": [
    "Q.4 Check how many times a given number is divided by 3 before it is less than or equal to 10"
   ]
  },
  {
   "cell_type": "code",
   "execution_count": 8,
   "id": "e7431cee-73a5-4c5f-8b4f-58eda4e02182",
   "metadata": {},
   "outputs": [
    {
     "name": "stdout",
     "output_type": "stream",
     "text": [
      "3\n"
     ]
    }
   ],
   "source": [
    "count = 3\n",
    "number = 10\n",
    "while number > 10:\n",
    "    number = number / 3\n",
    "    count += 10\n",
    "print(count)"
   ]
  },
  {
   "cell_type": "code",
   "execution_count": null,
   "id": "89b3b06f-b0db-4492-abce-bebe14a72bcd",
   "metadata": {},
   "outputs": [],
   "source": [
    "Q.5 Why and when to use while loop on python give a \n",
    "detail description with example"
   ]
  },
  {
   "cell_type": "code",
   "execution_count": 1,
   "id": "1214531f-b12c-481d-a211-b7de82be7a25",
   "metadata": {},
   "outputs": [
    {
     "name": "stdout",
     "output_type": "stream",
     "text": [
      "0\n",
      "1\n",
      "2\n",
      "3\n",
      "4\n"
     ]
    }
   ],
   "source": [
    "#A while loop  in python is used to execute a block of \n",
    "#statement repeatedly until a given condition is satisfied\n",
    "#the loop will continue to run as long as \n",
    "#the condition remains true\n",
    "i = 0\n",
    "while i<5:\n",
    "    print(i)\n",
    "    i += 1"
   ]
  },
  {
   "cell_type": "code",
   "execution_count": null,
   "id": "220e5a73-cebe-4cd5-8f69-88fd88bd0bb2",
   "metadata": {},
   "outputs": [],
   "source": [
    "the code will print out from 0 to 4\n",
    "because the condition says that the i is less than the 5\n",
    "i<5 is true"
   ]
  },
  {
   "cell_type": "code",
   "execution_count": null,
   "id": "e18c87df-0498-4ec3-a133-a1f33701f88e",
   "metadata": {},
   "outputs": [],
   "source": [
    "Q.6 use nested while loop to print 3 different pattern"
   ]
  },
  {
   "cell_type": "code",
   "execution_count": 2,
   "id": "e63e8b24-60b9-417c-9827-931c8b28743f",
   "metadata": {},
   "outputs": [
    {
     "name": "stdout",
     "output_type": "stream",
     "text": [
      "*\n",
      "**\n",
      "***\n",
      "***\n",
      "**\n",
      "*\n",
      "1\n",
      "12\n",
      "123\n"
     ]
    }
   ],
   "source": [
    "i = 1\n",
    "while i<=3:\n",
    "    j = 1\n",
    "    while j <=i:\n",
    "        print(\"*\",end=\"\")\n",
    "        j += 1\n",
    "    print()\n",
    "    i+=1\n",
    "\n",
    "i = 3\n",
    "while i>=1:\n",
    "    j = 1\n",
    "    while j <=i:\n",
    "        print(\"*\",end=\"\")\n",
    "        j += 1\n",
    "    print()\n",
    "    i -=1\n",
    "    \n",
    "i = 1\n",
    "while i<=3:\n",
    "    j = 1\n",
    "    while j <=i:\n",
    "        print(j, end= \"\")\n",
    "        j +=1\n",
    "    print()\n",
    "    i += 1"
   ]
  },
  {
   "cell_type": "code",
   "execution_count": null,
   "id": "13893141-9200-42e0-8541-e90a08ce2a12",
   "metadata": {},
   "outputs": [],
   "source": [
    "Q.7 reverse a while loop to display numbers from 10 to 1"
   ]
  },
  {
   "cell_type": "code",
   "execution_count": 3,
   "id": "da27f2ab-57d4-4a7b-b85b-c7419876cfd6",
   "metadata": {},
   "outputs": [
    {
     "name": "stdout",
     "output_type": "stream",
     "text": [
      "20\n",
      "19\n",
      "18\n",
      "17\n",
      "16\n",
      "15\n",
      "14\n",
      "13\n",
      "12\n",
      "11\n",
      "10\n",
      "9\n",
      "8\n",
      "7\n",
      "6\n",
      "5\n",
      "4\n",
      "3\n",
      "2\n",
      "1\n"
     ]
    }
   ],
   "source": [
    "i = 20\n",
    "while i>=1:\n",
    "    print(i)\n",
    "    i = i-1"
   ]
  },
  {
   "cell_type": "code",
   "execution_count": null,
   "id": "cb64cb42-0968-4197-945a-cd155de75f09",
   "metadata": {},
   "outputs": [],
   "source": []
  }
 ],
 "metadata": {
  "kernelspec": {
   "display_name": "Python 3 (ipykernel)",
   "language": "python",
   "name": "python3"
  },
  "language_info": {
   "codemirror_mode": {
    "name": "ipython",
    "version": 3
   },
   "file_extension": ".py",
   "mimetype": "text/x-python",
   "name": "python",
   "nbconvert_exporter": "python",
   "pygments_lexer": "ipython3",
   "version": "3.10.8"
  }
 },
 "nbformat": 4,
 "nbformat_minor": 5
}
